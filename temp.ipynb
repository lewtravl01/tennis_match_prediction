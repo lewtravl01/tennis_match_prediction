{
 "cells": [
  {
   "cell_type": "markdown",
   "metadata": {},
   "source": [
    "#### Learning Objectives\n",
    "- Define data modeling and simple linear regression.\n",
    "- Build a linear regression model using a data set that meets the linearity assumption using the scikit-learn library.\n",
    "- Understand and identify multicollinearity in a multiple regression."
   ]
  },
  {
   "cell_type": "markdown",
   "metadata": {},
   "source": [
    "## What is Data Modeling?\n",
    "\n",
    "A Data Model for a Data Scientist is an artifact created by the machine learning process one might even consider a program in its own right. The model will accept data and return the appropriate output. As discussed before, in supervised learning a model is the combination of the algorithm trained with the training data.\n",
    "\n",
    "The overall process is fairly linear and is the end result of our Data Science process. Our goal is to:\n",
    "\n",
    "1. Create a Hypothesis or a question we want to test/explore\n",
    "\n",
    "2. Load, clean and transform relevant data\n",
    "\n",
    "3. Identify relevant features/variables for both the question and the model\n",
    "\n",
    "4. Build a process with an appropriate machine learning algorithm or statistical methodology that suits your data, use case, and available computational resources\n",
    "\n",
    "5. Test, evaluate and refine your model. Often, Data Scientists create numerous models until aligning on the one creating the best output\n",
    "\n",
    "6. Deploy the model - This can be accomplished through batch processing or moved into a real time production environment\n",
    "\n",
    "7. Monitor and refine the model over time\n",
    "\n",
    "\n",
    "The end result is a clear and defined process to accept raw information and create predictive or prosciptive insights to your organization."
   ]
  },
  {
   "cell_type": "markdown",
   "metadata": {},
   "source": [
    "## Exploring ATP Matches Data\n",
    "---"
   ]
  },
  {
   "cell_type": "code",
   "execution_count": null,
   "metadata": {
    "ExecuteTime": {
     "end_time": "2021-07-15T20:00:37.529086Z",
     "start_time": "2021-07-15T20:00:30.772795Z"
    }
   },
   "outputs": [],
   "source": [
    "# Standard imports\n",
    "import pandas as pd\n",
    "import numpy as np\n",
    "\n",
    "# Visualization imports\n",
    "import seaborn as sns\n",
    "import matplotlib.pyplot as plt\n",
    "\n",
    "# Specific imports\n",
    "# These are new! Notice we're using the 'from' approach to import only what we need.\n",
    "from sklearn.linear_model import LinearRegression\n",
    "from sklearn.metrics import mean_absolute_error, mean_squared_error\n",
    "from sklearn.model_selection import train_test_split\n",
    "\n",
    "# Statistics imports\n",
    "from scipy import stats\n",
    "import statsmodels.api as sm\n",
    "\n",
    "# magic and parameters\n",
    "%matplotlib inline\n",
    "plt.rcParams['figure.figsize'] = (8, 6)\n",
    "plt.rcParams['font.size'] = 14\n",
    "plt.style.use(\"fivethirtyeight\")"
   ]
  },
  {
   "cell_type": "markdown",
   "metadata": {},
   "source": [
    "<a id=\"read-in-the--capital-bikeshare-data\"></a>\n",
    "### Read In the Capital Bikeshare Data"
   ]
  },
  {
   "cell_type": "code",
   "execution_count": null,
   "metadata": {
    "ExecuteTime": {
     "end_time": "2021-07-15T20:00:37.605923Z",
     "start_time": "2021-07-15T20:00:37.532069Z"
    }
   },
   "outputs": [],
   "source": [
    "# Read the data and set the datetime as the index.\n",
    "url = './data/bikeshare.csv'\n",
    "bikes_df = pd.read_csv(url, index_col='datetime', parse_dates=True)"
   ]
  },
  {
   "cell_type": "code",
   "execution_count": null,
   "metadata": {
    "ExecuteTime": {
     "end_time": "2021-07-15T21:53:06.709251Z",
     "start_time": "2021-07-15T21:53:06.636562Z"
    }
   },
   "outputs": [],
   "source": [
    "# load the data into a dataframe named lv_reviews\n",
    "path = './data/LasVegasTripAdvisorReviews-Dataset.csv'\n",
    "\n",
    "lv_reviews = pd.read_csv('./data/LasVegasTripAdvisorReviews-Dataset.csv')"
   ]
  },
  {
   "cell_type": "markdown",
   "metadata": {},
   "source": [
    "<a id=\"what-is-multicollinearity\"></a>\n",
    "## What Is Multicollinearity?\n",
    "---\n",
    "\n",
    "Multicollinearity happens when two or more features are highly correlated with each other. The problem is that due to the high correlation, it's hard to disambiguate which feature has what kind of effect on the outcome. In other words, the features mask each other. \n",
    "\n",
    "<a id=\"feature-engineering\"></a>\n",
    "### More Feature Engineering\n",
    "- **hour:** as a single numeric feature (0 through 23)\n",
    "**We will try both a square root and log transformation**\n",
    "Then, try using each of the three features (on its own) with `train_test_rmse` to see which one performs the best!\n",
    "\n",
    "#### 4. Bike Weather Dummy Variables\n",
    "Build dummy variables for weather, append it to the `bike_dummies` dataframe, and check the model performance with both `total rentals` and "
   ]
  },
  {
   "cell_type": "markdown",
   "metadata": {},
   "source": [
    "## What is Data Modeling?\n",
    "\n",
    "The overall process is fairly linear and is the end result of our Data Science process. Our goal is to:\n",
    "\n",
    "1. Create a Hypothesis or a question we want to test/explore\n",
    "\n",
    "2. Load, clean and transform relevant data\n",
    "\n",
    "<a id=\"feature-selection\"></a>\n",
    "### Feature Selection\n",
    "How do we choose which features to include in the model? We're going to use **train/test split** (and eventually **cross-validation**).\n",
    "More generally:\n",
    "- This course focuses on general purpose approaches that can be applied to any model, rather than model-specific approaches.\n",
    "\n",
    "| Variable| Description |\n",
    "|---------|----------------|\n",
    "|datetime| hourly date + timestamp  |\n",
    "|season|  1=winter, 2=spring, 3=summer, 4=fall |\n",
    "|holiday| whether the day is considered a holiday|\n",
    "|workingday| whether the day is neither a weekend nor holiday|\n",
    "|weather| See Below|\n",
    "|temp| temperature in Celsius|\n",
    "|atemp| \"feels like\" temperature in Celsius|\n",
    "|humidity| relative humidity|\n",
    "|windspeed| wind speed|\n",
    "|casual| number of non-registered user rentals initiated|\n",
    "|registered| number of registered user rentals initiated|\n",
    "|count| number of total rentals|\n",
    "\n",
    "> _Details on Weather Variable_\n",
    "\n",
    "> **1**: Clear, Few clouds, Partly cloudy, Partly cloudy\n",
    "\n",
    "> **2**: Mist + Cloudy, Mist + Broken clouds, Mist + Few clouds, Mist\n",
    "\n",
    "### Lesson Guide\n",
    "- [Introduce the Bikeshare Data Set](#introduce-the-bikeshare-dataset)\n",
    "\t- [Read in the  Capital Bikeshare Data](#read-in-the--capital-bikeshare-data)"
   ]
  }
 ],
 "metadata": {
  "kernelspec": {
   "display_name": "Python 3.8.2 64-bit",
   "language": "python",
   "name": "python3"
  },
  "language_info": {
   "codemirror_mode": {
    "name": "ipython",
    "version": 3
   },
   "file_extension": ".py",
   "mimetype": "text/x-python",
   "name": "python",
   "nbconvert_exporter": "python",
   "pygments_lexer": "ipython3",
   "version": "3.8.2"
  },
  "toc": {
   "base_numbering": 1,
   "nav_menu": {},
   "number_sections": false,
   "sideBar": true,
   "skip_h1_title": false,
   "title_cell": "Table of Contents",
   "title_sidebar": "Contents",
   "toc_cell": false,
   "toc_position": {
    "height": "calc(100% - 180px)",
    "left": "10px",
    "top": "150px",
    "width": "238.1875px"
   },
   "toc_section_display": true,
   "toc_window_display": false
  },
  "vscode": {
   "interpreter": {
    "hash": "31f2aee4e71d21fbe5cf8b01ff0e069b9275f58929596ceb00d14d90e3e16cd6"
   }
  }
 },
 "nbformat": 4,
 "nbformat_minor": 1
}
